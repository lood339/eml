{
 "cells": [
  {
   "cell_type": "code",
   "execution_count": 1,
   "id": "a4edea97-2dda-4789-9738-dbea1ee17db7",
   "metadata": {},
   "outputs": [],
   "source": [
    "import copy\n",
    "import math\n",
    "import random\n",
    "import time\n",
    "from collections import OrderedDict, defaultdict\n",
    "from typing import Union, List\n",
    "\n",
    "import numpy as np\n",
    "import torch\n",
    "from matplotlib import pyplot as plt\n",
    "from torch import nn\n",
    "from torch.optim import *\n",
    "from torch.optim.lr_scheduler import *\n",
    "from torch.utils.data import DataLoader\n",
    "from torchprofile import profile_macs\n",
    "from torchvision.datasets import *\n",
    "from torchvision.transforms import *\n",
    "from tqdm.auto import tqdm\n",
    "\n",
    "from torchprofile import profile_macs\n",
    "\n",
    "assert torch.backends.mps.is_available(), \\\n",
    "\"The current runtime does not have MPS support.\" \\\n",
    "\"Please go to menu bar (Runtime - Change runtime type) and select GPU\""
   ]
  },
  {
   "cell_type": "code",
   "execution_count": 2,
   "id": "2c2404dc-2f45-483e-9543-03485e88ad14",
   "metadata": {},
   "outputs": [
    {
     "data": {
      "text/plain": [
       "<torch._C.Generator at 0x1079310f0>"
      ]
     },
     "execution_count": 2,
     "metadata": {},
     "output_type": "execute_result"
    }
   ],
   "source": [
    "random.seed(0)\n",
    "np.random.seed(0)\n",
    "torch.manual_seed(0)"
   ]
  },
  {
   "cell_type": "code",
   "execution_count": 3,
   "id": "4f07fd80-fd4d-43b9-9053-a29ddac1bc20",
   "metadata": {},
   "outputs": [],
   "source": [
    "def download_url(url, model_dir='.', overwrite=False):\n",
    "    import os, sys, ssl\n",
    "    from urllib.request import urlretrieve\n",
    "\n",
    "    ssl._create_default_https_context = ssl._create_unverified_context\n",
    "    target_dir = url.split('/')[-1]\n",
    "    model_dir = os.path.expanduser(model_dir)\n",
    "\n",
    "    try:\n",
    "        if not os.path.exists(model_dir):\n",
    "            os.makedirs(model_dir)\n",
    "        model_dir = os.path.join(model_dir, target_dir)\n",
    "        cached_file = model_dir\n",
    "        if not os.path.exists(cached_file) or overwrite:\n",
    "            sys.stderr.write(f'Downlaoding {model_dir} {cached_file}')\n",
    "            urlretrieve(url, cached_file)\n",
    "        return cached_file\n",
    "    except:\n",
    "        # remove lock file so download can be executed next time\n",
    "        os.remove(os.path.join(model_dir, 'download.lock'))\n",
    "        sys.stderr.write(f'Failed to download {url}')\n",
    "                  "
   ]
  },
  {
   "cell_type": "code",
   "execution_count": 4,
   "id": "1134a289-76fe-4f06-aa19-d1e9a8013f85",
   "metadata": {},
   "outputs": [],
   "source": [
    "class VGG(nn.Module):\n",
    "  ARCH = [64, 128, 'M', 256, 256, 'M', 512, 512, 'M', 512, 512, 'M']\n",
    "\n",
    "  def __init__(self) -> None:\n",
    "    super().__init__()\n",
    "\n",
    "    layers = []\n",
    "    counts = defaultdict(int)\n",
    "\n",
    "    def add(name: str, layer: nn.Module) -> None:\n",
    "      layers.append((f\"{name}{counts[name]}\", layer))\n",
    "      counts[name] += 1\n",
    "\n",
    "    in_channels = 3\n",
    "    for x in self.ARCH:\n",
    "      if x != 'M':\n",
    "        # conv-bn-relu\n",
    "        add(\"conv\", nn.Conv2d(in_channels, x, 3, padding=1, bias=False))\n",
    "        add(\"bn\", nn.BatchNorm2d(x))\n",
    "        add(\"relu\", nn.ReLU(True))\n",
    "        in_channels = x\n",
    "      else:\n",
    "        # maxpool\n",
    "        add(\"pool\", nn.MaxPool2d(2))\n",
    "\n",
    "    self.backbone = nn.Sequential(OrderedDict(layers))\n",
    "    self.classifier = nn.Linear(512, 10)\n",
    "\n",
    "  def forward(self, x: torch.Tensor) -> torch.Tensor:\n",
    "    # backbone: [N, 3, 32, 32] => [N, 512, 2, 2]\n",
    "    x = self.backbone(x)\n",
    "\n",
    "    # avgpool: [N, 512, 2, 2] => [N, 512]\n",
    "    x = x.mean([2, 3])\n",
    "\n",
    "    # classifier: [N, 512] => [N, 10]\n",
    "    x = self.classifier(x)\n",
    "    return x"
   ]
  },
  {
   "cell_type": "code",
   "execution_count": 5,
   "id": "5880dadf-5b7a-416f-bcdf-9c78d37e2815",
   "metadata": {},
   "outputs": [
    {
     "name": "stdout",
     "output_type": "stream",
     "text": [
      "mps\n"
     ]
    }
   ],
   "source": [
    "device = torch.device(\"mps\" if torch.backends.mps.is_available() else \"cpu\")\n",
    "print(device)"
   ]
  },
  {
   "cell_type": "code",
   "execution_count": 6,
   "id": "5acb26ec-3d30-4782-845a-db86ed15224d",
   "metadata": {},
   "outputs": [],
   "source": [
    "def train(\n",
    "  model: nn.Module,\n",
    "  dataloader: DataLoader,\n",
    "  criterion: nn.Module,\n",
    "  optimizer: Optimizer,\n",
    "  scheduler: LambdaLR,\n",
    "  callbacks = None\n",
    ") -> None:\n",
    "  model.train()\n",
    "\n",
    "  for inputs, targets in tqdm(dataloader, desc='train', leave=False):\n",
    "    # Move the data from CPU to GPU\n",
    "    inputs = inputs.to(device)\n",
    "    targets = targets.to(device)\n",
    "\n",
    "    # Reset the gradients (from the last iteration)\n",
    "    optimizer.zero_grad()\n",
    "\n",
    "    # Forward inference\n",
    "    outputs = model(inputs)\n",
    "    loss = criterion(outputs, targets)\n",
    "\n",
    "    # Backward propagation\n",
    "    loss.backward()\n",
    "\n",
    "    # Update optimizer and LR scheduler\n",
    "    optimizer.step()\n",
    "    scheduler.step()\n",
    "\n",
    "    if callbacks is not None:\n",
    "        for callback in callbacks:\n",
    "            callback()"
   ]
  },
  {
   "cell_type": "code",
   "execution_count": 7,
   "id": "598d4697-942d-42d9-b69e-5fe6a7a14f48",
   "metadata": {},
   "outputs": [],
   "source": [
    "@torch.inference_mode()\n",
    "def evaluate(\n",
    "  model: nn.Module,\n",
    "  dataloader: DataLoader,\n",
    "  verbose=True,\n",
    ") -> float:\n",
    "  model.eval()\n",
    "\n",
    "  num_samples = 0\n",
    "  num_correct = 0\n",
    "\n",
    "  for inputs, targets in tqdm(dataloader, desc=\"eval\", leave=False,\n",
    "                              disable=not verbose):\n",
    "    # Move the data from CPU to GPU\n",
    "    inputs = inputs.to(device)\n",
    "    targets = targets.to(device)\n",
    "\n",
    "    # Inference\n",
    "    outputs = model(inputs)\n",
    "\n",
    "    # Convert logits to class indices\n",
    "    outputs = outputs.argmax(dim=1)\n",
    "\n",
    "    # Update metrics\n",
    "    num_samples += targets.size(0)\n",
    "    num_correct += (outputs == targets).sum()\n",
    "\n",
    "  return (num_correct / num_samples * 100).item()"
   ]
  },
  {
   "cell_type": "code",
   "execution_count": 8,
   "id": "e171da8a-2d51-4811-b285-1a31fb13b7a9",
   "metadata": {},
   "outputs": [],
   "source": [
    "def get_model_macs(model, inputs) -> int:\n",
    "    return profile_macs(model, inputs)\n",
    "\n",
    "def get_sparsity(tensor: torch.Tensor) -> float:\n",
    "    return 1- float(tensor.count_nonzero())/tensor.numel()\n",
    "\n",
    "def get_model_sparsity(model: nn.Module) -> float:\n",
    "    num_nonzeros, num_ele = 0, 0\n",
    "    for param in model.parameters():\n",
    "        num_nonzeros += param.count_nonzero()\n",
    "        num_ele += param.numel()\n",
    "    return 1 - float(num_nonzeros/num_ele)\n",
    "\n",
    "def get_num_parameters(model: nn.Module, count_nonzero_only=False) -> int:\n",
    "    \"\"\"\n",
    "    calculate the total number of parameters of model\n",
    "    :param count_nonzero_only: only count nonzero weights\n",
    "    \"\"\"\n",
    "    num_counted_elements = 0\n",
    "    for param in model.parameters():\n",
    "        if count_nonzero_only:\n",
    "            num_counted_elements += param.count_nonzero()\n",
    "        else:\n",
    "            num_counted_elements += param.numel()\n",
    "    return num_counted_elements\n",
    "\n",
    "def get_model_size(model: nn.Module, data_width=32, count_nonzero_only=False) -> int:\n",
    "    return get_num_parameters(model, count_nonzero_only) * data_width\n",
    "\n",
    "Byte = 8\n",
    "KiB = 1024 * Byte\n",
    "MiB = 1024 * KiB\n",
    "GiB = 1024 * MiB"
   ]
  },
  {
   "cell_type": "code",
   "execution_count": null,
   "id": "e41f762c-606e-48a5-8457-e748cf742303",
   "metadata": {},
   "outputs": [],
   "source": [
    "### Define misc for verification"
   ]
  },
  {
   "cell_type": "code",
   "execution_count": 9,
   "id": "11dee6cd-6474-4d44-83fb-060e5b3dfb7f",
   "metadata": {},
   "outputs": [],
   "source": [
    "def test_fine_grained_prune(test_tensor=torch.tensor([[-0.46, -0.40, 0.39, 0.19, 0.37],\n",
    "                              [0.00, 0.40, 0.17, -0.15, 0.16],\n",
    "                              [-0.20, -0.23, 0.36, 0.25, 0.03],\n",
    "                              [0.24, 0.41, 0.07, 0.13, -0.15],\n",
    "                              [0.48, -0.09, -0.36, 0.12, 0.45]]), \n",
    "                           test_mask=torch.tensor([[True, True, False, False, False],\n",
    "                            [False, True, False, False, False],\n",
    "                            [False, False, False, False, False],\n",
    "                            [False, True, False, False, False],\n",
    "                            [True, False, False, False, True]]), \n",
    "                           target_sparsity=0.75, target_nonzeros=None):\n",
    "    def plot_matrix(tensor, ax, title):\n",
    "        ax.imshow(tensor.cpu().numpy() == 0, vmin=0, vmax=1, cmap='tab20c')\n",
    "        ax.set_title(title)\n",
    "        ax.set_yticklabels([])\n",
    "        ax.set_xticklabels([])\n",
    "        for j in range(tensor.shape[1]):\n",
    "            for i in range(tensor.shape[0]):\n",
    "                text = ax.text(j, i, f'{tensor[i, j].item():.2f}',\n",
    "                               ha='center',va='center', color='k')\n",
    "    test_tensor = test_tensor.clone()\n",
    "    fig, axes = plt.subplots(1, 2, figsize=(6, 10))\n",
    "    ax_left, ax_right = axes.ravel()\n",
    "    plot_matrix(test_tensor, ax_left, 'dense_tensor')\n",
    "\n",
    "    sparsity_before_pruning = get_sparsity(test_tensor)\n",
    "    mask = fine_grained_prune(test_tensor, target_sparsity)\n",
    "    sparsity_after_pruning = get_sparsity(test_tensor)\n",
    "    sparsity_of_mask = get_sparsity(mask)\n",
    "\n",
    "    plot_matrix(test_tensor, ax_right, 'sparse tensor')\n",
    "    fig.tight_layout()\n",
    "    plt.show()\n",
    "\n",
    "    print('* Test fine_grained_prune()')\n",
    "    print(f'    target sparsity: {target_sparsity:.2f}')\n",
    "    print(f'        sparsity before pruning: {sparsity_before_pruning:.2f}')\n",
    "    print(f'        sparsity after pruning: {sparsity_after_pruning:.2f}')\n",
    "    print(f'        sparsity of pruning mask: {sparsity_of_mask:.2f}')\n",
    "\n",
    "    if target_nonzeros is None:\n",
    "        if test_mask.equal(mask):\n",
    "            print('* Test passed.')\n",
    "        else:\n",
    "            print('* Test failed.')\n",
    "    else:\n",
    "        if mask.count_nonzero() == target_nonzeros:\n",
    "            print('* Test passed.')\n",
    "        else:\n",
    "            print('* Test failed.')    \n",
    "        \n",
    "        "
   ]
  },
  {
   "cell_type": "markdown",
   "id": "63efca80-f420-4618-9402-0a24ad2e26e6",
   "metadata": {},
   "source": [
    "#test_fine_grained_prune()\n",
    "### Load the pre-trained model and CIFAR-10 dataset"
   ]
  },
  {
   "cell_type": "code",
   "execution_count": 36,
   "id": "4b0e02ae-be0c-4f99-b36a-204640903acb",
   "metadata": {},
   "outputs": [],
   "source": [
    "checkpoint_url = \"https://hanlab18.mit.edu/files/course/labs/vgg.cifar.pretrained.pth\"\n",
    "checkpoint = torch.load(download_url(checkpoint_url), map_location='cpu', weights_only=True)\n",
    "\n",
    "\n",
    "model = VGG().to(device)\n",
    "model.load_state_dict(checkpoint['state_dict'])\n",
    "recover_model = lambda: model.load_state_dict(checkpoint['state_dict'])"
   ]
  },
  {
   "cell_type": "code",
   "execution_count": 11,
   "id": "2c6fb4fd-a921-4661-b6b5-da1067883f9a",
   "metadata": {},
   "outputs": [
    {
     "name": "stdout",
     "output_type": "stream",
     "text": [
      "Files already downloaded and verified\n",
      "Files already downloaded and verified\n"
     ]
    }
   ],
   "source": [
    "image_size = 32\n",
    "transforms = {\n",
    "    \"train\": Compose([\n",
    "        RandomCrop(image_size, padding=4),\n",
    "        RandomHorizontalFlip(),\n",
    "        ToTensor(),\n",
    "    ]),\n",
    "    \"test\": ToTensor(),\n",
    "}\n",
    "dataset = {}\n",
    "for split in [\"train\", \"test\"]:\n",
    "  dataset[split] = CIFAR10(\n",
    "    root=\"data/cifar10\",\n",
    "    train=(split == \"train\"),\n",
    "    download=True,\n",
    "    transform=transforms[split],\n",
    "  )\n",
    "dataloader = {}\n",
    "for split in ['train', 'test']:\n",
    "  dataloader[split] = DataLoader(\n",
    "    dataset[split],\n",
    "    batch_size=512,\n",
    "    shuffle=(split == 'train'),\n",
    "    num_workers=0,\n",
    "    pin_memory=True,\n",
    "  )"
   ]
  },
  {
   "cell_type": "markdown",
   "id": "bddb862e-0311-4046-acd3-1f59a3d4e881",
   "metadata": {},
   "source": [
    "### Verify the accuracy and model size"
   ]
  },
  {
   "cell_type": "code",
   "execution_count": 12,
   "id": "a0b3816e-6ebc-4409-a7aa-2b7947efc420",
   "metadata": {},
   "outputs": [
    {
     "data": {
      "application/vnd.jupyter.widget-view+json": {
       "model_id": "a2a44b1cf17f47d3af7f09e148f55a81",
       "version_major": 2,
       "version_minor": 0
      },
      "text/plain": [
       "eval:   0%|          | 0/20 [00:00<?, ?it/s]"
      ]
     },
     "metadata": {},
     "output_type": "display_data"
    },
    {
     "name": "stdout",
     "output_type": "stream",
     "text": [
      "Model accuracy: 92.95, model size: 35.20\n"
     ]
    }
   ],
   "source": [
    "default_model_accuracy = evaluate(model, dataloader['test'])\n",
    "default_model_size = get_model_size(model)\n",
    "\n",
    "print(f'Model accuracy: {default_model_accuracy:.2f}, model size: {default_model_size/MiB:.2f}')"
   ]
  },
  {
   "cell_type": "markdown",
   "id": "c9b5bace-9112-45b6-9768-826a4db6a45a",
   "metadata": {},
   "source": [
    "### Vis weight distribution"
   ]
  },
  {
   "cell_type": "code",
   "execution_count": 13,
   "id": "9b28cef7-c21a-4e6d-abce-61f77f9fb896",
   "metadata": {},
   "outputs": [
    {
     "data": {
      "image/png": "[encoded data removed]",
      "text/plain": [
       "<Figure size 1000x600 with 9 Axes>"
      ]
     },
     "metadata": {},
     "output_type": "display_data"
    }
   ],
   "source": [
    "def plot_weight_distribution(model, bins=256, count_nonzero_only=False):\n",
    "    fig, axes = plt.subplots(3,3, figsize=(10, 6))\n",
    "    axes = axes.ravel()\n",
    "    plot_index = 0\n",
    "    for name, param in model.named_parameters():\n",
    "        if param.dim() > 1:\n",
    "            ax = axes[plot_index]\n",
    "            if count_nonzero_only:\n",
    "                param_cpu = param.detach().view(-1).cpu()\n",
    "                param_cpu = param_cpu[param_cpu != 0].view(-1)\n",
    "                ax.hist(param_cpu, bins=bins, density=True, color='blue', alpha=0.5)\n",
    "            else:\n",
    "                ax.hist(param.detach().view(-1).cpu(), bins=bins, density=True, color='blue', alpha=0.5)\n",
    "            ax.set_xlabel(name)\n",
    "            ax.set_ylabel('density')\n",
    "            plot_index += 1\n",
    "    fig.suptitle('Histogram of Weights')\n",
    "    fig.tight_layout()\n",
    "    fig.subplots_adjust(top=0.925)\n",
    "    plt.show()\n",
    "\n",
    "plot_weight_distribution(model)"
   ]
  },
  {
   "cell_type": "markdown",
   "id": "160ceb24-c31f-468b-9ffd-76f7fa966066",
   "metadata": {},
   "source": [
    "### Question 2 (15 pts)\n",
    "\n",
    "Please complete the following magnitude-based fine-grained pruning function.\n",
    "\n",
    "**Hint**:\n",
    "*   In step 1, we calculate the number of zeros (`num_zeros`) after pruning. Note that `num_zeros` should be an integer. You could use either `round()` or `int()` to convert a floating number into an integer. Here we use `round()`.\n",
    "*   In step 2, we calculate the `importance` of weight tensor. Pytorch provides [`torch.abs()`](https://pytorch.org/docs/stable/generated/torch.abs.html#torch.abs), [`torch.Tensor.abs()`](https://pytorch.org/docs/stable/generated/torch.Tensor.abs.html#torch.Tensor.abs), [`torch.Tensor.abs_()`](https://pytorch.org/docs/stable/generated/torch.Tensor.abs_.html) APIs.\n",
    "*   In step 3, we calculate the pruning `threshold` so that all synapses with importance smaller than `threshold` will be removed. Pytorch provides [`torch.kthvalue()`](https://pytorch.org/docs/stable/generated/torch.kthvalue.html), [`torch.Tensor.kthvalue()`](https://pytorch.org/docs/stable/generated/torch.Tensor.kthvalue.html), [`torch.topk()`](https://pytorch.org/docs/stable/generated/torch.topk.html) APIs.\n",
    "*   In step 4, we calculate the pruning `mask` based on the `threshold`. **1** in the `mask` indicates the synapse will be kept, and **0** in the `mask` indicates the synapse will be removed. `mask = importance > threshold`. Pytorch provides [`torch.gt()`](https://pytorch.org/docs/stable/generated/torch.gt.html?highlight=torch%20gt#torch.gt) API."
   ]
  },
  {
   "cell_type": "code",
   "execution_count": 55,
   "id": "4c297521-ceff-439b-be66-3787457a3fad",
   "metadata": {},
   "outputs": [],
   "source": [
    "def fine_grained_prune(tensor: torch.Tensor, sparsity : float) -> torch.Tensor:\n",
    "    \"\"\"\n",
    "    magnitude-based pruning for single tensor\n",
    "    :param tensor: torch.(cuda.)Tensor, weight of conv/fc layer\n",
    "    :param sparsity: float, pruning sparsity\n",
    "        sparsity = #zeros / #elements = 1 - #nonzeros / #elements\n",
    "    :return:\n",
    "        torch.(cuda.)Tensor, mask for zeros\n",
    "    \"\"\"\n",
    "    sparsity = min(max(0.0, sparsity), 1.0)\n",
    "    if sparsity == 1.0:\n",
    "        tensor.zero_()\n",
    "        return torch.zeros_like(tensor)\n",
    "    elif sparsity == 0.0:\n",
    "        return torch.ones_like(tensor)\n",
    "\n",
    "    num_elements = tensor.numel()\n",
    "\n",
    "    ##################### YOUR CODE STARTS HERE #####################\n",
    "    # Step 1: calculate the #zeros (please use round())\n",
    "    num_zeros = round(tensor.numel()*sparsity)\n",
    "    # Step 2: calculate the importance of weight\n",
    "    importance = torch.abs(tensor)\n",
    "    # Step 3: calculate the pruning threshold. \n",
    "    threshold = torch.kthvalue(importance.view(-1).cpu(), num_zeros).values.to(device).item() # torch.kthvalue is not supported in mps\n",
    "    # Step 4: get binary mask (1 for nonzeros, 0 for zeros)\n",
    "    mask = (importance > threshold)\n",
    "    ##################### YOUR CODE ENDS HERE #######################\n",
    "\n",
    "    # Step 5: apply mask to prune the tensor\n",
    "    # print(f\"debug: {tensor.device}, {mask.device}\")\n",
    "    tensor.mul_(mask)\n",
    "\n",
    "    return mask"
   ]
  },
  {
   "cell_type": "code",
   "execution_count": 24,
   "id": "6967cb7f-90f6-4ef0-8904-ca8031000304",
   "metadata": {},
   "outputs": [
    {
     "name": "stdout",
     "output_type": "stream",
     "text": [
      "debug: cpu, cpu\n"
     ]
    },
    {
     "data": {
      "image/png": "[encoded data removed]",
      "text/plain": [
       "<Figure size 600x1000 with 2 Axes>"
      ]
     },
     "metadata": {},
     "output_type": "display_data"
    },
    {
     "name": "stdout",
     "output_type": "stream",
     "text": [
      "* Test fine_grained_prune()\n",
      "    target sparsity: 0.75\n",
      "        sparsity before pruning: 0.04\n",
      "        sparsity after pruning: 0.76\n",
      "        sparsity of pruning mask: 0.76\n",
      "* Test passed.\n"
     ]
    }
   ],
   "source": [
    "test_fine_grained_prune()"
   ]
  },
  {
   "cell_type": "markdown",
   "id": "fc55976c-cdc4-46a7-ad82-0f69a3916c79",
   "metadata": {},
   "source": [
    "# Q3:\n",
    "The last cell plots the tensor before and after pruning. Nonzeros are rendered in blue while zeros are rendered in gray. Please modify the value of `target_sparsity` in the following code cell so that there are only 10 nonzeros in the sparse tensor after pruning."
   ]
  },
  {
   "cell_type": "code",
   "execution_count": 25,
   "id": "5bf7c514-591f-4f6f-b739-8a31ba3cea2d",
   "metadata": {},
   "outputs": [
    {
     "name": "stdout",
     "output_type": "stream",
     "text": [
      "debug: cpu, cpu\n"
     ]
    },
    {
     "data": {
      "image/png": "[encoded data removed]",
      "text/plain": [
       "<Figure size 600x1000 with 2 Axes>"
      ]
     },
     "metadata": {},
     "output_type": "display_data"
    },
    {
     "name": "stdout",
     "output_type": "stream",
     "text": [
      "* Test fine_grained_prune()\n",
      "    target sparsity: 0.60\n",
      "        sparsity before pruning: 0.04\n",
      "        sparsity after pruning: 0.60\n",
      "        sparsity of pruning mask: 0.60\n",
      "* Test passed.\n"
     ]
    }
   ],
   "source": [
    "##################### YOUR CODE STARTS HERE #####################\n",
    "target_sparsity = 1- 10/(5*5) # please modify the value of target_sparsity\n",
    "##################### YOUR CODE ENDS HERE #####################\n",
    "test_fine_grained_prune(target_sparsity=target_sparsity, target_nonzeros=10)"
   ]
  },
  {
   "cell_type": "markdown",
   "id": "4404b7e2-6446-487c-85eb-6868361cbb11",
   "metadata": {},
   "source": [
    "We now wrap the fine-grained pruning function into a class for pruning the whole model. In class FineGrainedPruner, we have to keep a record of the pruning masks so that we could apply the masks whenever the model weights change to make sure the model keep sparse all the time."
   ]
  },
  {
   "cell_type": "markdown",
   "id": "d53554fe-62ea-4712-8f97-cb89ca5fb70e",
   "metadata": {},
   "source": [
    "### Sensitivity scan\n",
    "\n",
    "Different layers contribute differently to the model performance. It is challenging to decide the proper sparsity for each layer. A widely used approach is sensitivity scan.\n",
    "\n",
    "During the sensitivity scan, at each time, we will only prune one layer to see the accuracy degradation. By scanning different sparsities, we could draw the sensitivity curve (i.e., accuracy vs. sparsity) of the corresponding layer.\n",
    "\n",
    "Here is an example figure for sensitivity curves. The x-axis is the sparsity or the percentage of #parameters dropped (i.e., sparsity). The y-axis is the validation accuracy. (This is Figure 6 in Learning both Weights and Connections for Efficient Neural Networks)\n",
    "\n",
    "The following code cell defines the sensitivity scan function that returns the sparsities scanned, and a list of accuracies for each weight to be pruned.\n"
   ]
  },
  {
   "cell_type": "code",
   "execution_count": 52,
   "id": "b071acbe-bc2f-4fc2-9ee5-fe60b76302cc",
   "metadata": {},
   "outputs": [],
   "source": [
    "import typing as t\n",
    "\n",
    "class FineGrainedPruner:\n",
    "    def __init__(self, model, sparsity_dict):\n",
    "        self.masks = FineGrainedPruner.prune(model, sparsity_dict)\n",
    "\n",
    "    @torch.no_grad()\n",
    "    def apply(self, model):\n",
    "        for name, param in model.named_parameters():\n",
    "            if name in self.masks:\n",
    "                param *= self.masks[name]\n",
    "\n",
    "    @staticmethod\n",
    "    @torch.no_grad()\n",
    "    def prune(model, sparsity_dict:t.Dict[str, float]):\n",
    "        masks = dict()\n",
    "        for name, param in model.named_parameters():\n",
    "            if param.dim() > 1: # only for conv and FC\n",
    "                masks[name] = fine_grained_prune(param, sparsity_dict[name])\n",
    "        return masks        \n",
    "    "
   ]
  },
  {
   "cell_type": "code",
   "execution_count": 47,
   "id": "cf47458a-2e7c-4541-9e01-8d8c8220cbab",
   "metadata": {},
   "outputs": [
    {
     "name": "stdout",
     "output_type": "stream",
     "text": [
      "Help on class FineGrainedPruner in module __main__:\n",
      "\n",
      "class FineGrainedPruner(builtins.object)\n",
      " |  FineGrainedPruner(model, sparsity_dict)\n",
      " |\n",
      " |  Methods defined here:\n",
      " |\n",
      " |  __init__(self, model, sparsity_dict)\n",
      " |      Initialize self.  See help(type(self)) for accurate signature.\n",
      " |\n",
      " |  apply(self, model)\n",
      " |\n",
      " |  ----------------------------------------------------------------------\n",
      " |  Static methods defined here:\n",
      " |\n",
      " |  prune(model, sparsity_dict: Dict[str, float])\n",
      " |\n",
      " |  ----------------------------------------------------------------------\n",
      " |  Data descriptors defined here:\n",
      " |\n",
      " |  __dict__\n",
      " |      dictionary for instance variables\n",
      " |\n",
      " |  __weakref__\n",
      " |      list of weak references to the object\n",
      "\n"
     ]
    }
   ],
   "source": [
    "help(FineGrainedPruner)"
   ]
  },
  {
   "cell_type": "code",
   "execution_count": 42,
   "id": "52746bb3-32c8-4103-9131-890b4d179c8c",
   "metadata": {},
   "outputs": [],
   "source": [
    "@torch.no_grad()\n",
    "def sensitivity_scan(model, dataloader, step=0.1, start=0.4, stop=1.0, verbose=True):\n",
    "    sparsities = np.arange(start, stop, step)\n",
    "    accuracies = []\n",
    "\n",
    "    named_weights = [(name, param) for (name, param) in model.named_parameters() if param.dim() > 1]\n",
    "\n",
    "    for i, (name, param) in enumerate(named_weights):\n",
    "        param_clone = param.detach().clone()\n",
    "        accuracy = []\n",
    "        for sparsity in tqdm(sparsities, desc=f'scanning {i}/{len(named_weights)} weight - {name}'):\n",
    "            fine_grained_prune(param.detach(), sparsity=sparsity)\n",
    "            acc = evaluate(model, dataloader, verbose=False)\n",
    "            if verbose:\n",
    "                print(f'sparsity={sparsity:.2f}: accuracy={acc:.2f}%')\n",
    "            # restore weight\n",
    "            param.copy_(param_clone)\n",
    "            accuracy.append(acc)\n",
    "        if verbose:\n",
    "            print(f'\\r    sparsity=[{\",\".join([\"{:.2f}\".format(x) for x in sparsities])}]: accuracy=[{\", \".join([\"{:.2f}%\".format(x) for x in accuracy])}]', end='')\n",
    "        accuracies.append(accuracy)\n",
    "    return sparsities, accuracies          \n",
    "    \n",
    "    "
   ]
  },
  {
   "cell_type": "code",
   "execution_count": null,
   "id": "931092bb-1300-4f85-8937-08c5a87e0c57",
   "metadata": {},
   "outputs": [],
   "source": [
    "NotImplementedError: The operator 'aten::kthvalue.values' is not currently implemented for the MPS device. If you want this op to be added in priority during the prototype phase of this feature, please comment on https://github.com/pytorch/pytorch/issues/77764. As a temporary fix, you can set the environment variable `PYTORCH_ENABLE_MPS_FALLBACK=1` to use the CPU as a fallback for this op. WARNING: this will be slower than running natively on MPS."
   ]
  },
  {
   "cell_type": "code",
   "execution_count": 29,
   "id": "20ed7e64-4632-44f2-a6f7-d2d8ceef58e5",
   "metadata": {},
   "outputs": [
    {
     "data": {
      "application/vnd.jupyter.widget-view+json": {
       "model_id": "d5b20f269dbd4e5b974115d605639f5b",
       "version_major": 2,
       "version_minor": 0
      },
      "text/plain": [
       "scanning 0/9 weight - backbone.conv0.weight:   0%|          | 0/6 [00:00<?, ?it/s]"
      ]
     },
     "metadata": {},
     "output_type": "display_data"
    },
    {
     "name": "stdout",
     "output_type": "stream",
     "text": [
      "debug: mps:0, mps:0\n",
      "sparsity=0.40: accuracy=92.42%\n",
      "debug: mps:0, mps:0\n",
      "sparsity=0.50: accuracy=91.19%\n",
      "debug: mps:0, mps:0\n",
      "sparsity=0.60: accuracy=87.55%\n",
      "debug: mps:0, mps:0\n",
      "sparsity=0.70: accuracy=83.39%\n",
      "debug: mps:0, mps:0\n",
      "sparsity=0.80: accuracy=69.41%\n",
      "debug: mps:0, mps:0\n",
      "sparsity=0.90: accuracy=31.81%\n",
      "    sparsity=[0.40,0.50,0.60,0.70,0.80,0.90]: accuracy=[92.42%, 91.19%, 87.55%, 83.39%, 69.41%, 31.81%]"
     ]
    },
    {
     "data": {
      "application/vnd.jupyter.widget-view+json": {
       "model_id": "a6345e68c7474222a77d52d616fddbd7",
       "version_major": 2,
       "version_minor": 0
      },
      "text/plain": [
       "scanning 1/9 weight - backbone.conv1.weight:   0%|          | 0/6 [00:00<?, ?it/s]"
      ]
     },
     "metadata": {},
     "output_type": "display_data"
    },
    {
     "name": "stdout",
     "output_type": "stream",
     "text": [
      "debug: mps:0, mps:0\n",
      "sparsity=0.40: accuracy=92.93%\n",
      "debug: mps:0, mps:0\n",
      "sparsity=0.50: accuracy=92.88%\n",
      "debug: mps:0, mps:0\n",
      "sparsity=0.60: accuracy=92.71%\n",
      "debug: mps:0, mps:0\n",
      "sparsity=0.70: accuracy=92.40%\n",
      "debug: mps:0, mps:0\n",
      "sparsity=0.80: accuracy=91.32%\n",
      "debug: mps:0, mps:0\n",
      "sparsity=0.90: accuracy=84.78%\n",
      "    sparsity=[0.40,0.50,0.60,0.70,0.80,0.90]: accuracy=[92.93%, 92.88%, 92.71%, 92.40%, 91.32%, 84.78%]"
     ]
    },
    {
     "data": {
      "application/vnd.jupyter.widget-view+json": {
       "model_id": "43585811b62f43faa3af52b7409f3212",
       "version_major": 2,
       "version_minor": 0
      },
      "text/plain": [
       "scanning 2/9 weight - backbone.conv2.weight:   0%|          | 0/6 [00:00<?, ?it/s]"
      ]
     },
     "metadata": {},
     "output_type": "display_data"
    },
    {
     "name": "stdout",
     "output_type": "stream",
     "text": [
      "debug: mps:0, mps:0\n",
      "sparsity=0.40: accuracy=92.94%\n",
      "debug: mps:0, mps:0\n",
      "sparsity=0.50: accuracy=92.64%\n",
      "debug: mps:0, mps:0\n",
      "sparsity=0.60: accuracy=92.46%\n",
      "debug: mps:0, mps:0\n",
      "sparsity=0.70: accuracy=91.77%\n",
      "debug: mps:0, mps:0\n",
      "sparsity=0.80: accuracy=89.85%\n",
      "debug: mps:0, mps:0\n",
      "sparsity=0.90: accuracy=78.56%\n",
      "    sparsity=[0.40,0.50,0.60,0.70,0.80,0.90]: accuracy=[92.94%, 92.64%, 92.46%, 91.77%, 89.85%, 78.56%]"
     ]
    },
    {
     "data": {
      "application/vnd.jupyter.widget-view+json": {
       "model_id": "b492a515f0e14b6ba99e520d28147281",
       "version_major": 2,
       "version_minor": 0
      },
      "text/plain": [
       "scanning 3/9 weight - backbone.conv3.weight:   0%|          | 0/6 [00:00<?, ?it/s]"
      ]
     },
     "metadata": {},
     "output_type": "display_data"
    },
    {
     "name": "stdout",
     "output_type": "stream",
     "text": [
      "debug: mps:0, mps:0\n",
      "sparsity=0.40: accuracy=92.86%\n",
      "debug: mps:0, mps:0\n",
      "sparsity=0.50: accuracy=92.72%\n",
      "debug: mps:0, mps:0\n",
      "sparsity=0.60: accuracy=92.23%\n",
      "debug: mps:0, mps:0\n",
      "sparsity=0.70: accuracy=91.09%\n",
      "debug: mps:0, mps:0\n",
      "sparsity=0.80: accuracy=85.35%\n",
      "debug: mps:0, mps:0\n",
      "sparsity=0.90: accuracy=51.31%\n",
      "    sparsity=[0.40,0.50,0.60,0.70,0.80,0.90]: accuracy=[92.86%, 92.72%, 92.23%, 91.09%, 85.35%, 51.31%]"
     ]
    },
    {
     "data": {
      "application/vnd.jupyter.widget-view+json": {
       "model_id": "d25baa6f671a493887b3af447216fe62",
       "version_major": 2,
       "version_minor": 0
      },
      "text/plain": [
       "scanning 4/9 weight - backbone.conv4.weight:   0%|          | 0/6 [00:00<?, ?it/s]"
      ]
     },
     "metadata": {},
     "output_type": "display_data"
    },
    {
     "name": "stdout",
     "output_type": "stream",
     "text": [
      "debug: mps:0, mps:0\n",
      "sparsity=0.40: accuracy=92.88%\n",
      "debug: mps:0, mps:0\n",
      "sparsity=0.50: accuracy=92.68%\n",
      "debug: mps:0, mps:0\n",
      "sparsity=0.60: accuracy=92.22%\n",
      "debug: mps:0, mps:0\n",
      "sparsity=0.70: accuracy=89.47%\n",
      "debug: mps:0, mps:0\n",
      "sparsity=0.80: accuracy=76.87%\n",
      "debug: mps:0, mps:0\n",
      "sparsity=0.90: accuracy=38.78%\n",
      "    sparsity=[0.40,0.50,0.60,0.70,0.80,0.90]: accuracy=[92.88%, 92.68%, 92.22%, 89.47%, 76.87%, 38.78%]"
     ]
    },
    {
     "data": {
      "application/vnd.jupyter.widget-view+json": {
       "model_id": "93f1942e1196421cb5c81a8dc9120b34",
       "version_major": 2,
       "version_minor": 0
      },
      "text/plain": [
       "scanning 5/9 weight - backbone.conv5.weight:   0%|          | 0/6 [00:00<?, ?it/s]"
      ]
     },
     "metadata": {},
     "output_type": "display_data"
    },
    {
     "name": "stdout",
     "output_type": "stream",
     "text": [
      "debug: mps:0, mps:0\n",
      "sparsity=0.40: accuracy=92.92%\n",
      "debug: mps:0, mps:0\n",
      "sparsity=0.50: accuracy=92.71%\n",
      "debug: mps:0, mps:0\n",
      "sparsity=0.60: accuracy=92.63%\n",
      "debug: mps:0, mps:0\n",
      "sparsity=0.70: accuracy=91.88%\n",
      "debug: mps:0, mps:0\n",
      "sparsity=0.80: accuracy=89.90%\n",
      "debug: mps:0, mps:0\n",
      "sparsity=0.90: accuracy=82.19%\n",
      "    sparsity=[0.40,0.50,0.60,0.70,0.80,0.90]: accuracy=[92.92%, 92.71%, 92.63%, 91.88%, 89.90%, 82.19%]"
     ]
    },
    {
     "data": {
      "application/vnd.jupyter.widget-view+json": {
       "model_id": "86fff1ba3b3243babc08e7eece7577ec",
       "version_major": 2,
       "version_minor": 0
      },
      "text/plain": [
       "scanning 6/9 weight - backbone.conv6.weight:   0%|          | 0/6 [00:00<?, ?it/s]"
      ]
     },
     "metadata": {},
     "output_type": "display_data"
    },
    {
     "name": "stdout",
     "output_type": "stream",
     "text": [
      "debug: mps:0, mps:0\n",
      "sparsity=0.40: accuracy=92.94%\n",
      "debug: mps:0, mps:0\n",
      "sparsity=0.50: accuracy=92.86%\n",
      "debug: mps:0, mps:0\n",
      "sparsity=0.60: accuracy=92.65%\n",
      "debug: mps:0, mps:0\n",
      "sparsity=0.70: accuracy=92.10%\n",
      "debug: mps:0, mps:0\n",
      "sparsity=0.80: accuracy=90.58%\n",
      "debug: mps:0, mps:0\n",
      "sparsity=0.90: accuracy=83.65%\n",
      "    sparsity=[0.40,0.50,0.60,0.70,0.80,0.90]: accuracy=[92.94%, 92.86%, 92.65%, 92.10%, 90.58%, 83.65%]"
     ]
    },
    {
     "data": {
      "application/vnd.jupyter.widget-view+json": {
       "model_id": "2cdaf74ca5fa491ab672b7285ee5de18",
       "version_major": 2,
       "version_minor": 0
      },
      "text/plain": [
       "scanning 7/9 weight - backbone.conv7.weight:   0%|          | 0/6 [00:00<?, ?it/s]"
      ]
     },
     "metadata": {},
     "output_type": "display_data"
    },
    {
     "name": "stdout",
     "output_type": "stream",
     "text": [
      "debug: mps:0, mps:0\n",
      "sparsity=0.40: accuracy=92.94%\n",
      "debug: mps:0, mps:0\n",
      "sparsity=0.50: accuracy=92.92%\n",
      "debug: mps:0, mps:0\n",
      "sparsity=0.60: accuracy=92.88%\n",
      "debug: mps:0, mps:0\n",
      "sparsity=0.70: accuracy=92.81%\n",
      "debug: mps:0, mps:0\n",
      "sparsity=0.80: accuracy=92.63%\n",
      "debug: mps:0, mps:0\n",
      "sparsity=0.90: accuracy=91.34%\n",
      "    sparsity=[0.40,0.50,0.60,0.70,0.80,0.90]: accuracy=[92.94%, 92.92%, 92.88%, 92.81%, 92.63%, 91.34%]"
     ]
    },
    {
     "data": {
      "application/vnd.jupyter.widget-view+json": {
       "model_id": "4debcb70ec9845668d18b1b80d2f10f2",
       "version_major": 2,
       "version_minor": 0
      },
      "text/plain": [
       "scanning 8/9 weight - classifier.weight:   0%|          | 0/6 [00:00<?, ?it/s]"
      ]
     },
     "metadata": {},
     "output_type": "display_data"
    },
    {
     "name": "stdout",
     "output_type": "stream",
     "text": [
      "debug: mps:0, mps:0\n",
      "sparsity=0.40: accuracy=92.91%\n",
      "debug: mps:0, mps:0\n",
      "sparsity=0.50: accuracy=92.83%\n",
      "debug: mps:0, mps:0\n",
      "sparsity=0.60: accuracy=92.81%\n",
      "debug: mps:0, mps:0\n",
      "sparsity=0.70: accuracy=92.97%\n",
      "debug: mps:0, mps:0\n",
      "sparsity=0.80: accuracy=92.68%\n",
      "debug: mps:0, mps:0\n",
      "sparsity=0.90: accuracy=92.52%\n",
      "    sparsity=[0.40,0.50,0.60,0.70,0.80,0.90]: accuracy=[92.91%, 92.83%, 92.81%, 92.97%, 92.68%, 92.52%]"
     ]
    }
   ],
   "source": [
    "sparsities, accuracies = sensitivity_scan(model, dataloader['test'], step=0.1, start=0.4, stop=1.0)"
   ]
  },
  {
   "cell_type": "code",
   "execution_count": 35,
   "id": "a3799742-3d4d-460b-abd6-a6c013bb3d9a",
   "metadata": {},
   "outputs": [
    {
     "data": {
      "image/png": "[encoded data removed]",
      "text/plain": [
       "<Figure size 1500x800 with 9 Axes>"
      ]
     },
     "metadata": {},
     "output_type": "display_data"
    }
   ],
   "source": [
    "def plot_sensitivity_scan(sparsities, accuracies, dense_model_accuracy):\n",
    "    lower_bound_accuracy = 100 - (100 - dense_model_accuracy) * 1.5\n",
    "    fig, axes = plt.subplots(3, int(math.ceil(len(accuracies) / 3)),figsize=(15,8))\n",
    "    axes = axes.ravel()\n",
    "    plot_index = 0\n",
    "    for name, param in model.named_parameters():\n",
    "        if param.dim() > 1:\n",
    "            ax = axes[plot_index]\n",
    "            curve = ax.plot(sparsities, accuracies[plot_index])\n",
    "            line = ax.plot(sparsities, [lower_bound_accuracy] * len(sparsities))\n",
    "            ax.set_xticks(np.arange(start=0.4, stop=1.0, step=0.1))\n",
    "            ax.set_ylim(80, 95)\n",
    "            ax.set_title(name)\n",
    "            ax.set_xlabel('sparsity')\n",
    "            ax.set_ylabel('top-1 accuracy')\n",
    "            ax.legend([\n",
    "                'accuracy after pruning',\n",
    "                f'{lower_bound_accuracy / dense_model_accuracy * 100:.0f}% of dense model accuracy'\n",
    "            ])\n",
    "            ax.grid(axis='x')\n",
    "            plot_index += 1\n",
    "    fig.suptitle('Sensitivity Curves: Validation Accuracy vs. Pruning Sparsity')\n",
    "    fig.tight_layout()\n",
    "    fig.subplots_adjust(top=0.925)\n",
    "    plt.show()\n",
    "\n",
    "plot_sensitivity_scan(sparsities, accuracies, default_model_accuracy)"
   ]
  },
  {
   "cell_type": "markdown",
   "id": "221f40dd-1205-47e7-9834-1f03ee9a5956",
   "metadata": {},
   "source": [
    "Q4.1 What's the relationship between pruning sparsity and model accuracy? (i.e., does accuracy increase or decrease when sparsity becomes higher?)\n",
    "\n",
    "The accuracy decrease when the sparsity becomes higher"
   ]
  },
  {
   "cell_type": "markdown",
   "id": "730842e0-992a-41c4-9c34-7df89e30a691",
   "metadata": {},
   "source": [
    "Q4.2 Do all the layers have the same sensitivity? Which layer is the most sensitive to the pruning sparsity?\n",
    "\n",
    "No, different layers have different sensitivities. The conv0 layer is the most sensitive to sparsity "
   ]
  },
  {
   "cell_type": "code",
   "execution_count": null,
   "id": "e08ac45e-25ee-4c8f-9909-b093b95489cb",
   "metadata": {},
   "outputs": [],
   "source": []
  },
  {
   "cell_type": "markdown",
   "id": "0b06441e-b5c6-418c-bfb3-d10a2387cee4",
   "metadata": {},
   "source": [
    "## \\#Parameters of each layer\n",
    "In addition to accuracy, the number of each layer's parameters also affects the decision on sparsity selection. Layers with more #parameters require larger sparsities.\n",
    "\n",
    "Please run the following code cell to plot the distribution of #parameters in the whole model."
   ]
  },
  {
   "cell_type": "code",
   "execution_count": 31,
   "id": "f640f04e-1ea5-4c5a-aea1-48b48c5c2957",
   "metadata": {},
   "outputs": [
    {
     "data": {
      "image/png": "[encoded data removed]",
      "text/plain": [
       "<Figure size 800x600 with 1 Axes>"
      ]
     },
     "metadata": {},
     "output_type": "display_data"
    }
   ],
   "source": [
    "def plot_num_parameters_distribution(model):\n",
    "    num_parameters = dict()\n",
    "    for name, param in model.named_parameters():\n",
    "        if param.dim() > 1:\n",
    "            num_parameters[name] = param.numel()\n",
    "    fig = plt.figure(figsize=(8, 6))\n",
    "    plt.grid(axis='y')\n",
    "    plt.bar(list(num_parameters.keys()), list(num_parameters.values()))\n",
    "    plt.title('#Parameter Distribution')\n",
    "    plt.ylabel('Number of Parameters')\n",
    "    plt.xticks(rotation=60)\n",
    "    plt.tight_layout()\n",
    "    plt.show()\n",
    "\n",
    "plot_num_parameters_distribution(model)"
   ]
  },
  {
   "cell_type": "markdown",
   "id": "d172a38f-b14e-45ae-8044-814243c64182",
   "metadata": {},
   "source": [
    "## Select Sparsity Based on Sensitivity Curves and \\#Parameters Distribution"
   ]
  },
  {
   "cell_type": "markdown",
   "id": "b521c5af-f9a1-4b7e-99c0-99b2c6d4a7be",
   "metadata": {},
   "source": [
    "### Question 5 (10 pts)\n",
    "\n",
    "Based on the sensitivity curves and the distribution of #parameters in the model, please select the sparsity for each layer.\n",
    "\n",
    "Note that the overall compression ratio of pruned model mostly depends on the layers with larger #parameters, and different layers have different sensitivity to pruning (see Question 4).\n",
    "\n",
    "Please make sure that after pruning, the sparse model is 25% of the size of the dense model, and validation accuracy is higher than 92.5 after finetuning.\n",
    "\n",
    "**Hint**:\n",
    "*   The layer with more #parameters should have larger sparsity. (see *Figure #Parameter Distribution*)\n",
    "*   The layer that is sensitive to the pruning sparsity (i.e., the accuracy will drop quickly as sparsity becomes higher) should have smaller sparsity. (see *Figure Sensitivity Curves*)"
   ]
  },
  {
   "cell_type": "code",
   "execution_count": 38,
   "id": "da69bf2b-a18c-427f-8090-c829ed9924f1",
   "metadata": {},
   "outputs": [
    {
     "data": {
      "text/plain": [
       "<All keys matched successfully>"
      ]
     },
     "execution_count": 38,
     "metadata": {},
     "output_type": "execute_result"
    }
   ],
   "source": [
    "recover_model()"
   ]
  },
  {
   "cell_type": "code",
   "execution_count": 61,
   "id": "b4538828-038b-40dd-8044-58a0f5119abb",
   "metadata": {},
   "outputs": [],
   "source": [
    "recover_model()\n",
    "\n",
    "sparsity_dict = {\n",
    "##################### YOUR CODE STARTS HERE #####################\n",
    "    # please modify the sparsity value of each layer\n",
    "    # please DO NOT modify the key of sparsity_dict\n",
    "    'backbone.conv0.weight': 0.5,\n",
    "    'backbone.conv1.weight': 0.65,\n",
    "    'backbone.conv2.weight': 0.65,\n",
    "    'backbone.conv3.weight': 0.65,\n",
    "    'backbone.conv4.weight': 0.7,\n",
    "    'backbone.conv5.weight': 0.77,\n",
    "    'backbone.conv6.weight': 0.77,\n",
    "    'backbone.conv7.weight': 0.8,\n",
    "    'classifier.weight': 0.7\n",
    "##################### YOUR CODE ENDS HERE #######################\n",
    "}"
   ]
  },
  {
   "cell_type": "markdown",
   "id": "4d1ebbb9-0aaa-436a-a8c2-8fcb893f0aa1",
   "metadata": {},
   "source": [
    "Please run the following cell to prune the model according to your defined `sparsity_dict`, and print the information of sparse model."
   ]
  },
  {
   "cell_type": "code",
   "execution_count": 62,
   "id": "da14b355-ca28-4ca1-ac06-39a58075c6b2",
   "metadata": {},
   "outputs": [
    {
     "name": "stdout",
     "output_type": "stream",
     "text": [
      "After pruning with sparsity dictionary\n",
      "  backbone.conv0.weight: 0.50\n",
      "  backbone.conv1.weight: 0.65\n",
      "  backbone.conv2.weight: 0.65\n",
      "  backbone.conv3.weight: 0.65\n",
      "  backbone.conv4.weight: 0.70\n",
      "  backbone.conv5.weight: 0.77\n",
      "  backbone.conv6.weight: 0.77\n",
      "  backbone.conv7.weight: 0.80\n",
      "  classifier.weight: 0.70\n",
      "The sparsity of each layer becomes\n",
      "  backbone.conv0.weight: 0.50\n",
      "  backbone.conv1.weight: 0.65\n",
      "  backbone.conv2.weight: 0.65\n",
      "  backbone.conv3.weight: 0.65\n",
      "  backbone.conv4.weight: 0.70\n",
      "  backbone.conv5.weight: 0.77\n",
      "  backbone.conv6.weight: 0.77\n",
      "  backbone.conv7.weight: 0.80\n",
      "  classifier.weight: 0.70\n",
      "Sparse model has size=8.60 MiB = 24.43% of dense model size\n"
     ]
    },
    {
     "data": {
      "application/vnd.jupyter.widget-view+json": {
       "model_id": "c4ed405056b147e0b5de5a4ca8ab7eb5",
       "version_major": 2,
       "version_minor": 0
      },
      "text/plain": [
       "eval:   0%|          | 0/20 [00:00<?, ?it/s]"
      ]
     },
     "metadata": {},
     "output_type": "display_data"
    },
    {
     "name": "stdout",
     "output_type": "stream",
     "text": [
      "Sparse model has accuracy=84.49% before fintuning\n"
     ]
    },
    {
     "data": {
      "image/png": "[encoded data removed]",
      "text/plain": [
       "<Figure size 1000x600 with 9 Axes>"
      ]
     },
     "metadata": {},
     "output_type": "display_data"
    }
   ],
   "source": [
    "pruner = FineGrainedPruner(model, sparsity_dict)\n",
    "print(f'After pruning with sparsity dictionary')\n",
    "for name, sparsity in sparsity_dict.items():\n",
    "    print(f'  {name}: {sparsity:.2f}')\n",
    "print(f'The sparsity of each layer becomes')\n",
    "for name, param in model.named_parameters():\n",
    "    if name in sparsity_dict:\n",
    "        print(f'  {name}: {get_sparsity(param):.2f}')\n",
    "\n",
    "sparse_model_size = get_model_size(model, count_nonzero_only=True)\n",
    "print(f\"Sparse model has size={sparse_model_size / MiB:.2f} MiB = {sparse_model_size / default_model_size * 100:.2f}% of dense model size\")\n",
    "sparse_model_accuracy = evaluate(model, dataloader['test'])\n",
    "print(f\"Sparse model has accuracy={sparse_model_accuracy:.2f}% before fintuning\")\n",
    "\n",
    "plot_weight_distribution(model, count_nonzero_only=True)"
   ]
  },
  {
   "cell_type": "markdown",
   "id": "f0c7a98d-9962-44b0-9554-c2c3cb877a8c",
   "metadata": {},
   "source": [
    "## Finetune the fine-grained pruned model"
   ]
  },
  {
   "cell_type": "markdown",
   "id": "1a25864d-eb95-4394-8a5c-dafa748a0714",
   "metadata": {},
   "source": [
    "\n",
    "\n",
    "As we can see from the outputs of previous cell, even though fine-grained pruning reduces the most of model weights, the accuracy of model also dropped. Therefore, we have to finetune the sparse model to recover the accuracy.\n",
    "\n",
    "Please run the following cell to finetune the sparse model. It should take around 3 minutes to finish.\n"
   ]
  },
  {
   "cell_type": "code",
   "execution_count": 145,
   "id": "9aad7b9a-a905-4179-ac13-ed158f478fb2",
   "metadata": {},
   "outputs": [
    {
     "name": "stdout",
     "output_type": "stream",
     "text": [
      "Finetuning Fine-grained Pruned Sparse Model\n"
     ]
    },
    {
     "data": {
      "application/vnd.jupyter.widget-view+json": {
       "model_id": "d2a4c6e5fbbf45ce85061e9160406527",
       "version_major": 2,
       "version_minor": 0
      },
      "text/plain": [
       "train:   0%|          | 0/98 [00:00<?, ?it/s]"
      ]
     },
     "metadata": {},
     "output_type": "display_data"
    },
    {
     "data": {
      "application/vnd.jupyter.widget-view+json": {
       "model_id": "ad49b9d23ab34763bbb4ad316cf03370",
       "version_major": 2,
       "version_minor": 0
      },
      "text/plain": [
       "eval:   0%|          | 0/20 [00:00<?, ?it/s]"
      ]
     },
     "metadata": {},
     "output_type": "display_data"
    },
    {
     "name": "stdout",
     "output_type": "stream",
     "text": [
      "    Epoch 1 Accuracy 92.50% / Best Accuracy: 92.50%\n"
     ]
    },
    {
     "data": {
      "application/vnd.jupyter.widget-view+json": {
       "model_id": "7fce72d525554aebaf17a7950dea322c",
       "version_major": 2,
       "version_minor": 0
      },
      "text/plain": [
       "train:   0%|          | 0/98 [00:00<?, ?it/s]"
      ]
     },
     "metadata": {},
     "output_type": "display_data"
    },
    {
     "data": {
      "application/vnd.jupyter.widget-view+json": {
       "model_id": "c09ff5a424d64af6b86b01f1b8d719f7",
       "version_major": 2,
       "version_minor": 0
      },
      "text/plain": [
       "eval:   0%|          | 0/20 [00:00<?, ?it/s]"
      ]
     },
     "metadata": {},
     "output_type": "display_data"
    },
    {
     "name": "stdout",
     "output_type": "stream",
     "text": [
      "    Epoch 2 Accuracy 92.62% / Best Accuracy: 92.62%\n"
     ]
    },
    {
     "data": {
      "application/vnd.jupyter.widget-view+json": {
       "model_id": "cd2d34e4fcb548bd912d7fee0c1043dc",
       "version_major": 2,
       "version_minor": 0
      },
      "text/plain": [
       "train:   0%|          | 0/98 [00:00<?, ?it/s]"
      ]
     },
     "metadata": {},
     "output_type": "display_data"
    },
    {
     "data": {
      "application/vnd.jupyter.widget-view+json": {
       "model_id": "dd7c9cc831444b5ab5de9c1b1a6a8490",
       "version_major": 2,
       "version_minor": 0
      },
      "text/plain": [
       "eval:   0%|          | 0/20 [00:00<?, ?it/s]"
      ]
     },
     "metadata": {},
     "output_type": "display_data"
    },
    {
     "name": "stdout",
     "output_type": "stream",
     "text": [
      "    Epoch 3 Accuracy 92.70% / Best Accuracy: 92.70%\n"
     ]
    },
    {
     "data": {
      "application/vnd.jupyter.widget-view+json": {
       "model_id": "dca746a09e4d4f0c8bcbb5808bdbbb58",
       "version_major": 2,
       "version_minor": 0
      },
      "text/plain": [
       "train:   0%|          | 0/98 [00:00<?, ?it/s]"
      ]
     },
     "metadata": {},
     "output_type": "display_data"
    },
    {
     "data": {
      "application/vnd.jupyter.widget-view+json": {
       "model_id": "eaff5a0410e94686b3e7e1132c255c08",
       "version_major": 2,
       "version_minor": 0
      },
      "text/plain": [
       "eval:   0%|          | 0/20 [00:00<?, ?it/s]"
      ]
     },
     "metadata": {},
     "output_type": "display_data"
    },
    {
     "name": "stdout",
     "output_type": "stream",
     "text": [
      "    Epoch 4 Accuracy 92.56% / Best Accuracy: 92.70%\n"
     ]
    },
    {
     "data": {
      "application/vnd.jupyter.widget-view+json": {
       "model_id": "863c614e29db4073932569ce388086c1",
       "version_major": 2,
       "version_minor": 0
      },
      "text/plain": [
       "train:   0%|          | 0/98 [00:00<?, ?it/s]"
      ]
     },
     "metadata": {},
     "output_type": "display_data"
    },
    {
     "data": {
      "application/vnd.jupyter.widget-view+json": {
       "model_id": "3062968e8f57400e879c0fba3313abfa",
       "version_major": 2,
       "version_minor": 0
      },
      "text/plain": [
       "eval:   0%|          | 0/20 [00:00<?, ?it/s]"
      ]
     },
     "metadata": {},
     "output_type": "display_data"
    },
    {
     "name": "stdout",
     "output_type": "stream",
     "text": [
      "    Epoch 5 Accuracy 92.76% / Best Accuracy: 92.76%\n"
     ]
    }
   ],
   "source": [
    "num_finetune_epochs = 5\n",
    "optimizer = torch.optim.SGD(model.parameters(), lr=0.01, momentum=0.9, weight_decay=1e-4)\n",
    "scheduler = torch.optim.lr_scheduler.CosineAnnealingLR(optimizer, num_finetune_epochs)\n",
    "criterion = nn.CrossEntropyLoss()\n",
    "\n",
    "best_sparse_model_checkpoint = dict()\n",
    "best_accuracy = 0\n",
    "print(f'Finetuning Fine-grained Pruned Sparse Model')\n",
    "for epoch in range(num_finetune_epochs):\n",
    "    train(model, dataloader['train'], criterion, optimizer, scheduler,\n",
    "          callbacks=[lambda: pruner.apply(model)])\n",
    "    accuracy = evaluate(model, dataloader['test'])\n",
    "    is_best = accuracy > best_accuracy\n",
    "    if is_best:\n",
    "        best_sparse_model_checkpoint['state_dict'] = copy.deepcopy(model.state_dict())\n",
    "        best_accuracy = accuracy\n",
    "    print(f'    Epoch {epoch+1} Accuracy {accuracy:.2f}% / Best Accuracy: {best_accuracy:.2f}%')\n",
    "    "
   ]
  },
  {
   "cell_type": "markdown",
   "id": "0e27d3f9-63fc-4f89-9012-0d2a57600280",
   "metadata": {},
   "source": [
    "Run the following cell to see the information of best finetuned sparse model."
   ]
  },
  {
   "cell_type": "code",
   "execution_count": 146,
   "id": "b1d15f1f-762c-4b8f-a0c2-0345d4b0631d",
   "metadata": {},
   "outputs": [
    {
     "name": "stdout",
     "output_type": "stream",
     "text": [
      "Sparse model has size=8.60 MiB = 24.43% of dense model size\n"
     ]
    },
    {
     "data": {
      "application/vnd.jupyter.widget-view+json": {
       "model_id": "2a26024d0024400592e0f85b01619776",
       "version_major": 2,
       "version_minor": 0
      },
      "text/plain": [
       "eval:   0%|          | 0/20 [00:00<?, ?it/s]"
      ]
     },
     "metadata": {},
     "output_type": "display_data"
    },
    {
     "name": "stdout",
     "output_type": "stream",
     "text": [
      "Sparse model has accuracy=92.76% after fintuning\n"
     ]
    }
   ],
   "source": [
    "# load the best sparse model checkpoint to evaluate the final performance\n",
    "model.load_state_dict(best_sparse_model_checkpoint['state_dict'])\n",
    "sparse_model_size = get_model_size(model, count_nonzero_only=True)\n",
    "print(f\"Sparse model has size={sparse_model_size / MiB:.2f} MiB = {sparse_model_size / default_model_size * 100:.2f}% of dense model size\")\n",
    "sparse_model_accuracy = evaluate(model, dataloader['test'])\n",
    "print(f\"Sparse model has accuracy={sparse_model_accuracy:.2f}% after fintuning\")"
   ]
  },
  {
   "cell_type": "markdown",
   "id": "7293cbaf-61cc-4e93-b323-90375adea2fb",
   "metadata": {},
   "source": [
    "# Channel Pruning"
   ]
  },
  {
   "cell_type": "code",
   "execution_count": 78,
   "id": "89dc67fe-c405-4059-b641-c405c55187a7",
   "metadata": {},
   "outputs": [
    {
     "data": {
      "application/vnd.jupyter.widget-view+json": {
       "model_id": "25a4d23746444bd1865b716ecabebecf",
       "version_major": 2,
       "version_minor": 0
      },
      "text/plain": [
       "eval:   0%|          | 0/20 [00:00<?, ?it/s]"
      ]
     },
     "metadata": {},
     "output_type": "display_data"
    },
    {
     "name": "stdout",
     "output_type": "stream",
     "text": [
      "dense model has accuracy=92.95%\n"
     ]
    }
   ],
   "source": [
    "# firstly, let's restore the model weights to the original dense version\n",
    "#   and check the validation accuracy\n",
    "recover_model()\n",
    "dense_model_accuracy = evaluate(model, dataloader['test'])\n",
    "print(f\"dense model has accuracy={dense_model_accuracy:.2f}%\")"
   ]
  },
  {
   "cell_type": "markdown",
   "id": "90515546-801c-4333-8fc8-07f92be467ef",
   "metadata": {},
   "source": [
    "## Remove Channel Weights\n",
    "\n",
    "Unlike fine-grained pruning, we can remove the weights entirely from the tensor in channel pruning. That is to say, the number of output channels is reduced:\n",
    "\n",
    "> $\\#\\mathrm{out\\_channels}_{\\mathrm{new}} = \\#\\mathrm{out\\_channels}_{\\mathrm{origin}} \\cdot (1 - \\mathrm{sparsity})$\n",
    "\n",
    "The weight tensor $W$ is still dense after channel pruning. Thus, we will refer to *sparsity* as ***prune ratio***.\n",
    "\n",
    "Like fine-grained pruning, we can use different pruning rates for different layers. However, we use a uniform pruning rate for all the layers for now. We are targeting 2x computation reduction, which is roughly 30% uniform pruning rate (think about why).\n",
    "\n",
    "Feel free to try out different pruning ratios per layer at the end of this section. You can pass in a list of ratios to the `channel_prune` function."
   ]
  },
  {
   "cell_type": "markdown",
   "id": "b5d86088-2410-4dd5-9d0b-f623b5509e3e",
   "metadata": {},
   "source": [
    "### Question 6 (10 pts)\n",
    "\n",
    "Please complete the following functions for channel pruning.\n",
    "\n",
    "Here we naively prune all output channels other than the first $\\#\\mathrm{out\\_channels}_{\\mathrm{new}}$ channels."
   ]
  },
  {
   "cell_type": "code",
   "execution_count": 110,
   "id": "3d54622a-d645-49b6-ac57-ea7dc2b26c01",
   "metadata": {},
   "outputs": [],
   "source": [
    "def get_num_channels_to_keep(channels: int, prune_ratio: float) -> int:\n",
    "    \"\"\"A function to calculate the number of layers to PRESERVE after pruning\n",
    "    Note that preserve_rate = 1. - prune_ratio\n",
    "    \"\"\"\n",
    "    ##################### YOUR CODE STARTS HERE #####################\n",
    "    return round((1.0 - prune_ratio) * channels)\n",
    "    ##################### YOUR CODE ENDS HERE #####################\n",
    "\n",
    "@torch.no_grad()\n",
    "def channel_prune(model: nn.Module,\n",
    "                  prune_ratio: Union[List, float]) -> nn.Module:\n",
    "    \"\"\"Apply channel pruning to each of the conv layer in the backbone\n",
    "    Note that for prune_ratio, we can either provide a floating-point number,\n",
    "    indicating that we use a uniform pruning rate for all layers, or a list of\n",
    "    numbers to indicate per-layer pruning rate.\n",
    "    \"\"\"\n",
    "    assert isinstance(prune_ratio, (float, list))\n",
    "    n_conv = len([m for m in model.backbone if isinstance(m, nn.Conv2d)])\n",
    "    \n",
    "    if isinstance(prune_ratio, list):\n",
    "        assert len(prune_ratio) == n_conv -1\n",
    "    else:\n",
    "        prune_ratio = [prune_ratio] * (n_conv - 1)\n",
    "\n",
    "    model = copy.deepcopy(model)\n",
    "    all_convs = [m for m in model.backbone if isinstance(m, nn.Conv2d)]\n",
    "    all_bns = [m for m in model.backbone if isinstance(m, nn.BatchNorm2d)]\n",
    "\n",
    "    # for i, m in enumerate(all_convs):\n",
    "    #     if i != 0:\n",
    "    #         print(f\"prev conv dim: {all_convs[i-1].weight.shape})\")\n",
    "    #         print(f\"cur. conv dim: {m.weight.shape}\\n\")\n",
    "\n",
    "    # apply prunning. we naively keep the first k channels ?\n",
    "    assert len(all_convs) == len(all_bns)\n",
    "    for i_ratio, p_ratio in enumerate(prune_ratio):\n",
    "        prev_conv = all_convs[i_ratio]\n",
    "        prev_bn = all_bns[i_ratio]\n",
    "        next_conv = all_convs[i_ratio+1]\n",
    "        n_channels = prev_conv.out_channels # same as next_conv.in_channels\n",
    "        n_keep = get_num_channels_to_keep(n_channels, p_ratio)\n",
    "\n",
    "        #print(n_channels, n_keep)\n",
    "\n",
    "        # prune the output of prev. conv and bn\n",
    "        prev_conv.weight.set_(prev_conv.weight.detach()[:n_keep])\n",
    "        prev_bn.weight.set_(prev_bn.weight.detach()[:n_keep])\n",
    "        prev_bn.bias.set_(prev_bn.bias.detach()[:n_keep])\n",
    "        prev_bn.running_mean.set_(prev_bn.running_mean.detach()[:n_keep])\n",
    "        prev_bn.running_var.set_(prev_bn.running_var.detach()[:n_keep])\n",
    "\n",
    "        # prune the input of the next conv (hint: just one line of code)\n",
    "        ##################### YOUR CODE STARTS HERE #####################\n",
    "        next_conv.weight.set_(next_conv.weight.detach()[:,:n_keep,:,:]) # update input channel num\n",
    "        ##################### YOUR CODE ENDS HERE ##################### \n",
    "    \n",
    "    return model"
   ]
  },
  {
   "cell_type": "markdown",
   "id": "36801b18-15cd-49f4-b06a-8ff382378648",
   "metadata": {},
   "source": [
    "Run the following cell to perform a sanity check to make sure the implementation is correct."
   ]
  },
  {
   "cell_type": "code",
   "execution_count": 111,
   "id": "fa820db4-6f46-4eb6-8789-f4c57e1f0493",
   "metadata": {},
   "outputs": [
    {
     "name": "stdout",
     "output_type": "stream",
     "text": [
      "305388064\n",
      "* Check passed. Right MACs for the pruned model.\n"
     ]
    }
   ],
   "source": [
    "dummy_input = torch.randn(1, 3, 32, 32).to(device)\n",
    "pruned_model = channel_prune(model, prune_ratio=0.3)\n",
    "pruned_macs = get_model_macs(pruned_model, dummy_input)\n",
    "print(pruned_macs)\n",
    "assert pruned_macs == 305388064\n",
    "print('* Check passed. Right MACs for the pruned model.')"
   ]
  },
  {
   "cell_type": "markdown",
   "id": "be37952c-94fd-4a23-8479-c509b0510046",
   "metadata": {},
   "source": [
    "\n",
    "\n",
    "Now let's evaluate the performance of the model after uniform channel pruning with 30% pruning rate.\n",
    "\n",
    "As you may see, directly removing 30% of the channels leads to low accuracy.\n"
   ]
  },
  {
   "cell_type": "code",
   "execution_count": 112,
   "id": "8cf2f1ce-d03e-4c0f-a6a2-8382a8ce26d6",
   "metadata": {},
   "outputs": [
    {
     "data": {
      "application/vnd.jupyter.widget-view+json": {
       "model_id": "06a81bef28a1465bb86fded5ed3e0e36",
       "version_major": 2,
       "version_minor": 0
      },
      "text/plain": [
       "eval:   0%|          | 0/20 [00:00<?, ?it/s]"
      ]
     },
     "metadata": {},
     "output_type": "display_data"
    },
    {
     "name": "stdout",
     "output_type": "stream",
     "text": [
      "pruned model has accuracy=28.14%\n"
     ]
    }
   ],
   "source": [
    "pruned_model_accuracy = evaluate(pruned_model, dataloader['test'])\n",
    "print(f\"pruned model has accuracy={pruned_model_accuracy:.2f}%\")"
   ]
  },
  {
   "cell_type": "markdown",
   "id": "dfb57ca9-3bc6-465c-b602-c505e7c48bfc",
   "metadata": {},
   "source": [
    "## Ranking Channels by Importance\n",
    "\n",
    "As you can see, removing the first 30% of channels in all layers leads to significant accuracy reduction. One potential method to remedy the issue is to find the **less important** channel weights to remove. A popular criterion for importance is to use the Frobenius norm of the weights corresponding to each input channel:\n",
    "\n",
    "> $importance_{i} = \\|W_{i}\\|_2, \\;\\; i = 0, 1, 2,\\cdots, \\#\\mathrm{in\\_channels}-1$\n",
    "\n",
    "We can sort the channel weights from more important to less important, and then keep the frst $k$ channels for each layer."
   ]
  },
  {
   "cell_type": "markdown",
   "id": "bcbd55e8-0184-4d2f-b1cc-2ffa2fbbd3a7",
   "metadata": {},
   "source": [
    "Question 7 (15 pts)\n",
    "\n",
    "Please complete the following functions for sorting the weight tensor based on the Frobenius norm.\n",
    "\n",
    "Hint:\n",
    "\n",
    "    To calculate Frobenius norm of a tensor, Pytorch provides torch.norm APIs.\n"
   ]
  },
  {
   "cell_type": "code",
   "execution_count": 136,
   "id": "09e94cb2-90b7-4969-a665-9c14e57e6767",
   "metadata": {},
   "outputs": [],
   "source": [
    "def get_input_channel_importance(weight):\n",
    "    n_channels = weight.shape[1]\n",
    "    importances = []\n",
    "\n",
    "    for i_c in range(weight.shape[1]):\n",
    "        w = weight.detach()[:, i_c]\n",
    "        importance = torch.norm(w)\n",
    "        importances.append(importance.view(1))\n",
    "    return torch.cat(importances)\n",
    "\n",
    "@torch.no_grad()\n",
    "def apply_channel_sorting(model):\n",
    "    model = copy.deepcopy(model)\n",
    "    # fetch all the conv and bn layers from the backbone\n",
    "    all_convs = [m for m in model.backbone if isinstance(m, nn.Conv2d)]\n",
    "    all_bns = [m for m in model.backbone if isinstance(m, nn.BatchNorm2d)]\n",
    "\n",
    "    for i_conv in range(len(all_convs) -1):\n",
    "        prev_conv = all_convs[i_conv]\n",
    "        prev_bn = all_bns[i_conv]\n",
    "        next_conv = all_convs[i_conv + 1]\n",
    "        # importance from next conv\n",
    "        imp = get_input_channel_importance(next_conv.weight)\n",
    "        sort_idx = torch.argsort(imp, descending=True)\n",
    "\n",
    "        # apply to pre. conv and its follow bn, (output channel)\n",
    "        prev_conv.weight.copy_(torch.index_select(prev_conv.weight.detach(), 0, sort_idx))\n",
    "        for t_name in ['weight', 'bias', 'running_mean', 'running_var']:\n",
    "            tensor = getattr(prev_bn, t_name)\n",
    "            tensor.copy_(torch.index_select(tensor.detach(), 0, sort_idx))\n",
    "\n",
    "        # apply to the next conv input (hint: one line of code)\n",
    "        ##################### YOUR CODE STARTS HERE #####################\n",
    "        next_conv.weight.copy_(torch.index_select(next_conv.weight.detach(), 1, sort_idx))\n",
    "        ##################### YOUR CODE ENDS HERE #####################\n",
    "\n",
    "    return model            \n",
    "        \n",
    "    "
   ]
  },
  {
   "cell_type": "markdown",
   "id": "e73809ea-4f17-4368-998e-f0110d648602",
   "metadata": {},
   "source": [
    "Now run the following cell to sanity check if the results are correct."
   ]
  },
  {
   "cell_type": "code",
   "execution_count": 137,
   "id": "1aa85493-a811-4594-9dc6-252d9781efa8",
   "metadata": {},
   "outputs": [
    {
     "name": "stdout",
     "output_type": "stream",
     "text": [
      "Before sorting...\n"
     ]
    },
    {
     "data": {
      "application/vnd.jupyter.widget-view+json": {
       "model_id": "4fb80f378ed44c51b62e21298e34930a",
       "version_major": 2,
       "version_minor": 0
      },
      "text/plain": [
       "eval:   0%|          | 0/20 [00:00<?, ?it/s]"
      ]
     },
     "metadata": {},
     "output_type": "display_data"
    },
    {
     "name": "stdout",
     "output_type": "stream",
     "text": [
      "dense model has accuracy=92.95%\n",
      "After sorting...\n"
     ]
    },
    {
     "data": {
      "application/vnd.jupyter.widget-view+json": {
       "model_id": "50df8f94f2f74a13ad763e2fe6f58a29",
       "version_major": 2,
       "version_minor": 0
      },
      "text/plain": [
       "eval:   0%|          | 0/20 [00:00<?, ?it/s]"
      ]
     },
     "metadata": {},
     "output_type": "display_data"
    },
    {
     "name": "stdout",
     "output_type": "stream",
     "text": [
      "sorted model has accuracy=92.95%\n",
      "* Check passed.\n"
     ]
    }
   ],
   "source": [
    "print('Before sorting...')\n",
    "dense_model_accuracy = evaluate(model, dataloader['test'])\n",
    "print(f\"dense model has accuracy={dense_model_accuracy:.2f}%\")\n",
    "\n",
    "print('After sorting...')\n",
    "sorted_model = apply_channel_sorting(model)\n",
    "sorted_model_accuracy = evaluate(sorted_model, dataloader['test'])\n",
    "print(f\"sorted model has accuracy={sorted_model_accuracy:.2f}%\")\n",
    "\n",
    "# make sure accuracy does not change after sorting, since it is\n",
    "# equivalent transform\n",
    "assert abs(sorted_model_accuracy - dense_model_accuracy) < 0.1\n",
    "print('* Check passed.')"
   ]
  },
  {
   "cell_type": "code",
   "execution_count": 138,
   "id": "8d6ad3ce-0320-42f7-a877-a5ff7208c92d",
   "metadata": {},
   "outputs": [
    {
     "name": "stdout",
     "output_type": "stream",
     "text": [
      " * Without sorting...\n"
     ]
    },
    {
     "data": {
      "application/vnd.jupyter.widget-view+json": {
       "model_id": "c713808a22d0475aa684c7b209988997",
       "version_major": 2,
       "version_minor": 0
      },
      "text/plain": [
       "eval:   0%|          | 0/20 [00:00<?, ?it/s]"
      ]
     },
     "metadata": {},
     "output_type": "display_data"
    },
    {
     "name": "stdout",
     "output_type": "stream",
     "text": [
      "pruned model has accuracy=28.14%\n",
      " * With sorting...\n"
     ]
    },
    {
     "data": {
      "application/vnd.jupyter.widget-view+json": {
       "model_id": "fd6df41efa7e423790e53a350897b8c0",
       "version_major": 2,
       "version_minor": 0
      },
      "text/plain": [
       "eval:   0%|          | 0/20 [00:00<?, ?it/s]"
      ]
     },
     "metadata": {},
     "output_type": "display_data"
    },
    {
     "name": "stdout",
     "output_type": "stream",
     "text": [
      "pruned model has accuracy=36.81%\n"
     ]
    }
   ],
   "source": [
    "channel_pruning_ratio = 0.3  # pruned-out ratio\n",
    "\n",
    "print(\" * Without sorting...\")\n",
    "pruned_model = channel_prune(model, channel_pruning_ratio)\n",
    "pruned_model_accuracy = evaluate(pruned_model, dataloader['test'])\n",
    "print(f\"pruned model has accuracy={pruned_model_accuracy:.2f}%\")\n",
    "\n",
    "\n",
    "print(\" * With sorting...\")\n",
    "sorted_model = apply_channel_sorting(model)\n",
    "pruned_model = channel_prune(sorted_model, channel_pruning_ratio)\n",
    "pruned_model_accuracy = evaluate(pruned_model, dataloader['test'])\n",
    "print(f\"pruned model has accuracy={pruned_model_accuracy:.2f}%\")"
   ]
  },
  {
   "cell_type": "markdown",
   "id": "bf48370d-5a9d-4cab-871e-da1bea7cc217",
   "metadata": {},
   "source": [
    "As you can see, the channel sorting can slightly improve the pruned model's accuracy, but there is still a huge degrade, which is quite common for channel pruning. But luckily, we can perform fine-tuning to recover the accuracy."
   ]
  },
  {
   "cell_type": "code",
   "execution_count": 140,
   "id": "1df93bb2-4a61-4323-b3e4-18c339e3804f",
   "metadata": {},
   "outputs": [
    {
     "data": {
      "application/vnd.jupyter.widget-view+json": {
       "model_id": "3b3955db8f9942eca3aa1a9bafa1dcda",
       "version_major": 2,
       "version_minor": 0
      },
      "text/plain": [
       "train:   0%|          | 0/98 [00:00<?, ?it/s]"
      ]
     },
     "metadata": {},
     "output_type": "display_data"
    },
    {
     "data": {
      "application/vnd.jupyter.widget-view+json": {
       "model_id": "5d9854168c7e47bfa86cb115dda29d31",
       "version_major": 2,
       "version_minor": 0
      },
      "text/plain": [
       "eval:   0%|          | 0/20 [00:00<?, ?it/s]"
      ]
     },
     "metadata": {},
     "output_type": "display_data"
    },
    {
     "name": "stdout",
     "output_type": "stream",
     "text": [
      "Epoch 1 Accuracy 91.68% / Best Accuracy: 91.68%\n"
     ]
    },
    {
     "data": {
      "application/vnd.jupyter.widget-view+json": {
       "model_id": "9633497c92e54304a6ba1c2f687f62ed",
       "version_major": 2,
       "version_minor": 0
      },
      "text/plain": [
       "train:   0%|          | 0/98 [00:00<?, ?it/s]"
      ]
     },
     "metadata": {},
     "output_type": "display_data"
    },
    {
     "data": {
      "application/vnd.jupyter.widget-view+json": {
       "model_id": "06cb982161e544418628a74d1de01243",
       "version_major": 2,
       "version_minor": 0
      },
      "text/plain": [
       "eval:   0%|          | 0/20 [00:00<?, ?it/s]"
      ]
     },
     "metadata": {},
     "output_type": "display_data"
    },
    {
     "name": "stdout",
     "output_type": "stream",
     "text": [
      "Epoch 2 Accuracy 91.93% / Best Accuracy: 91.93%\n"
     ]
    },
    {
     "data": {
      "application/vnd.jupyter.widget-view+json": {
       "model_id": "88e2e22dbfde4fd4a5de9165c4ef96ea",
       "version_major": 2,
       "version_minor": 0
      },
      "text/plain": [
       "train:   0%|          | 0/98 [00:00<?, ?it/s]"
      ]
     },
     "metadata": {},
     "output_type": "display_data"
    },
    {
     "data": {
      "application/vnd.jupyter.widget-view+json": {
       "model_id": "2b3a7eca4ef34b2cb0e0d6566090cfc1",
       "version_major": 2,
       "version_minor": 0
      },
      "text/plain": [
       "eval:   0%|          | 0/20 [00:00<?, ?it/s]"
      ]
     },
     "metadata": {},
     "output_type": "display_data"
    },
    {
     "name": "stdout",
     "output_type": "stream",
     "text": [
      "Epoch 3 Accuracy 92.04% / Best Accuracy: 92.04%\n"
     ]
    },
    {
     "data": {
      "application/vnd.jupyter.widget-view+json": {
       "model_id": "5f9f69d159234e06957866db44bcd5f3",
       "version_major": 2,
       "version_minor": 0
      },
      "text/plain": [
       "train:   0%|          | 0/98 [00:00<?, ?it/s]"
      ]
     },
     "metadata": {},
     "output_type": "display_data"
    },
    {
     "data": {
      "application/vnd.jupyter.widget-view+json": {
       "model_id": "c75012ba583e4a1aa5461e7946ab8b52",
       "version_major": 2,
       "version_minor": 0
      },
      "text/plain": [
       "eval:   0%|          | 0/20 [00:00<?, ?it/s]"
      ]
     },
     "metadata": {},
     "output_type": "display_data"
    },
    {
     "name": "stdout",
     "output_type": "stream",
     "text": [
      "Epoch 4 Accuracy 92.05% / Best Accuracy: 92.05%\n"
     ]
    },
    {
     "data": {
      "application/vnd.jupyter.widget-view+json": {
       "model_id": "429cc985f6964369a29f200ff06c1e83",
       "version_major": 2,
       "version_minor": 0
      },
      "text/plain": [
       "train:   0%|          | 0/98 [00:00<?, ?it/s]"
      ]
     },
     "metadata": {},
     "output_type": "display_data"
    },
    {
     "data": {
      "application/vnd.jupyter.widget-view+json": {
       "model_id": "1f48700a5bb245dfa50c4bbb0b9313f5",
       "version_major": 2,
       "version_minor": 0
      },
      "text/plain": [
       "eval:   0%|          | 0/20 [00:00<?, ?it/s]"
      ]
     },
     "metadata": {},
     "output_type": "display_data"
    },
    {
     "name": "stdout",
     "output_type": "stream",
     "text": [
      "Epoch 5 Accuracy 92.29% / Best Accuracy: 92.29%\n"
     ]
    }
   ],
   "source": [
    "num_finetune_epochs = 5\n",
    "optimizer = torch.optim.SGD(pruned_model.parameters(), lr=0.01, momentum=0.9, weight_decay=1e-4)\n",
    "scheduler = torch.optim.lr_scheduler.CosineAnnealingLR(optimizer, num_finetune_epochs)\n",
    "criterion = nn.CrossEntropyLoss()\n",
    "\n",
    "best_accuracy = 0\n",
    "for epoch in range(num_finetune_epochs):\n",
    "    train(pruned_model, dataloader['train'], criterion, optimizer, scheduler)\n",
    "    accuracy = evaluate(pruned_model, dataloader['test'])\n",
    "    is_best = accuracy > best_accuracy\n",
    "    if is_best:\n",
    "        best_accuracy = accuracy\n",
    "    print(f'Epoch {epoch+1} Accuracy {accuracy:.2f}% / Best Accuracy: {best_accuracy:.2f}%')"
   ]
  },
  {
   "cell_type": "markdown",
   "id": "84420599-9690-492d-976e-379faf57f026",
   "metadata": {},
   "source": [
    "## Measure acceleration from pruning\n",
    "\n",
    "After fine-tuning, the model almost recovers the accuracy. You may have already learned that channel pruning is usually more difficult to recover accuracy compared to fine-grained pruning. However, it directly leads to a smaller model size and smaller computation without specialized model format. It can also run faster on GPUs. Now we compare the model size, computation, and latency of the pruned model."
   ]
  },
  {
   "cell_type": "code",
   "execution_count": 144,
   "id": "3538444b-7128-49b8-a922-385061acd5be",
   "metadata": {},
   "outputs": [
    {
     "name": "stdout",
     "output_type": "stream",
     "text": [
      "                Original        Pruned          Reduction Ratio\n",
      "Latency (ms)    4.5             3.0             1.5            \n",
      "MACs (M)        606             305             2.0            \n",
      "Param (M)       9.23            5.01            1.8            \n"
     ]
    }
   ],
   "source": [
    "# helper functions to measure latency of a regular PyTorch models\n",
    "\n",
    "@torch.no_grad()\n",
    "def measure_latency(model, input, n_warmup=20, n_test=100):\n",
    "    model.eval()\n",
    "\n",
    "    for _ in range(n_warmup):\n",
    "        _ = model(input)\n",
    "\n",
    "    t1 = time.time()\n",
    "    for _ in range(n_test):\n",
    "        _ = model(input)\n",
    "    t2 = time.time()\n",
    "    return (t2-t1)/n_test\n",
    "\n",
    "\n",
    "table_template = \"{:<15} {:<15} {:<15} {:<15}\"\n",
    "print (table_template.format('', 'Original','Pruned','Reduction Ratio'))\n",
    "\n",
    "# 1. measure the latency of the original model and the pruned model on CPU\n",
    "#   which simulates inference on an edge device\n",
    "dummy_input = torch.randn(1, 3, 32, 32).to('cpu')\n",
    "pruned_model = pruned_model.to('cpu')\n",
    "model = model.to('cpu')\n",
    "\n",
    "pruned_latency = measure_latency(pruned_model, dummy_input)\n",
    "original_latency = measure_latency(model, dummy_input)\n",
    "print(table_template.format('Latency (ms)',\n",
    "                            round(original_latency * 1000, 1),\n",
    "                            round(pruned_latency * 1000, 1),\n",
    "                            round(original_latency / pruned_latency, 1)))\n",
    "\n",
    "# 2. measure the computation (MACs)\n",
    "original_macs = get_model_macs(model, dummy_input)\n",
    "pruned_macs = get_model_macs(pruned_model, dummy_input)\n",
    "print(table_template.format('MACs (M)',\n",
    "                            round(original_macs / 1e6),\n",
    "                            round(pruned_macs / 1e6),\n",
    "                            round(original_macs / pruned_macs, 1)))\n",
    "\n",
    "# 3. measure the model size (params)\n",
    "original_param = get_num_parameters(model)\n",
    "pruned_param = get_num_parameters(pruned_model)\n",
    "print(table_template.format('Param (M)',\n",
    "                            round(original_param / 1e6, 2),\n",
    "                            round(pruned_param / 1e6, 2),\n",
    "                            round(original_param / pruned_param, 1)))\n",
    "\n",
    "# put model back to cuda\n",
    "pruned_model = pruned_model.to(device)\n",
    "model = model.to(device)"
   ]
  },
  {
   "cell_type": "markdown",
   "id": "5616e170-6dd6-400b-bcea-32a2c1a80f07",
   "metadata": {},
   "source": [
    "Q8.1 Explain why removing 30% of channels roughly leads to 50% computation reduction.\n",
    "\n",
    "In conv layers, the remaining input and output channels are 0.7. So, 0.7 * 0.7 = 0.49 ~=50 of computation reduction."
   ]
  },
  {
   "cell_type": "markdown",
   "id": "c43280e5-a973-40d1-afec-cd813fd23170",
   "metadata": {},
   "source": [
    "Q8.2 Explain why the latency reduction ratio is slightly smaller than computation reduction. ?\n",
    "\n",
    "It is due to non-computational overhead such as memory bandwidth."
   ]
  },
  {
   "cell_type": "markdown",
   "id": "67a75cce-23a0-4a1f-836a-bb8aff243348",
   "metadata": {},
   "source": [
    "Q9.1 What are the advantages and disadvantages of fine-grained pruning and channel pruning? You can discuss from the perspective of compression ratio, accuracy, latency, hardware support (i.e., requiring specialized hardware accelerator), etc.\n",
    "\n",
    "Fine-grained prunning: higher compression ratio, higher accuracy, ? latency, require specialized hardware accelerator\n",
    "Cnanne prining: lower compression ratio, high accuracy, lower latency, do not require specialized hardware accelerator"
   ]
  },
  {
   "cell_type": "markdown",
   "id": "a8fa5f46-a969-4492-b30b-d2c4ffd4c8ec",
   "metadata": {},
   "source": [
    "Q9.2 If you want to make your model run faster on a smartphone, which pruning method will you use? Why?\n",
    "\n",
    "A combination of fine-grained prunning and channel prunning. Step 1: channel prunning; second fine-grained prunning; Step 3: device specific optimization such as 2:4 sparse matrix"
   ]
  },
  {
   "cell_type": "code",
   "execution_count": null,
   "id": "7b8ccf7c-b01c-400f-a84a-9661537743fd",
   "metadata": {},
   "outputs": [],
   "source": []
  }
 ],
 "metadata": {
  "kernelspec": {
   "display_name": "Python 3 (ipykernel)",
   "language": "python",
   "name": "python3"
  },
  "language_info": {
   "codemirror_mode": {
    "name": "ipython",
    "version": 3
   },
   "file_extension": ".py",
   "mimetype": "text/x-python",
   "name": "python",
   "nbconvert_exporter": "python",
   "pygments_lexer": "ipython3",
   "version": "3.12.9"
  }
 },
 "nbformat": 4,
 "nbformat_minor": 5
}
